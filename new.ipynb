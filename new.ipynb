{
 "cells": [
  {
   "cell_type": "code",
   "execution_count": null,
   "metadata": {},
   
   "source": [
    "import json \n",
    "import pandas as pd "
   ]
  },
  {
   "cell_type": "code",
   "execution_count": 2,
   "metadata": {},
   "outputs": [],
   "source": [
    "path = \"C:/Users/Bala Krishnan/Downloads/sample_airbnb.json\"\n",
    "D = open(path,'r')\n",
    "data = json.load(D)\n",
    "\n",
    "\n",
    "airbnb_data = []\n",
    "\n",
    "for i in data:\n",
    "    data = {\n",
    "        \"Id\" : i['_id'],\n",
    "        \"Property_type\" : i['property_type'],\n",
    "        \"RoomType\" : i['room_type'],\n",
    "        \"BedType\" : i['bed_type'],\n",
    "        \"Min_Night\" : i['minimum_nights'],\n",
    "        \"Max_Night\" : i['maximum_nights'],\n",
    "        \"Cancel\" : i['cancellation_policy'],\n",
    "        \"Accomadate\" : i['accommodates'],\n",
    "        \"Bedroom\" : i.get('bedrooms'),\n",
    "        \"amenities\": ','.join(map(str, i['amenities'])),\n",
    "        \"Bed\" : i.get('beds'),\n",
    "        \"Total_Reviews\" : i['number_of_reviews'],\n",
    "        \"Bathrooms\" : i.get('bathrooms'),\n",
    "        \"Price\" : i['price'],\n",
    "        \"Cleaning\" : i.get('cleaning_fee'),\n",
    "        \"ExtraPeople\" : i['extra_people'], \n",
    "        \"Guests\" : i['guests_included']   \n",
    "    }\n",
    "    airbnb_data.append(data)\n",
    "\n",
    "\n",
    "val = pd.DataFrame(airbnb_data)\n",
    "#val\n"
   ]
  },
  {
   "cell_type": "code",
   "execution_count": 3,
   "metadata": {},
   "outputs": [
    {
     "data": {
      "text/plain": [
       "Index(['Id', 'Property_type', 'RoomType', 'BedType', 'Min_Night', 'Max_Night',\n",
       "       'Cancel', 'Accomadate', 'Bedroom', 'amenities', 'Bed', 'Total_Reviews',\n",
       "       'Bathrooms', 'Price', 'Cleaning', 'ExtraPeople', 'Guests'],\n",
       "      dtype='object')"
      ]
     },
     "execution_count": 3,
     "metadata": {},
     "output_type": "execute_result"
    }
   ],
   "source": [
    "val.columns"
   ]
  },
  {
   "cell_type": "code",
   "execution_count": 4,
   "metadata": {},
   "outputs": [],
   "source": [
    "val.ffill(inplace = True)\n",
    "val[\"amenities\"]= val[\"amenities\"].replace({'':\"Not Specified\"})"
   ]
  },
  {
   "cell_type": "code",
   "execution_count": 5,
   "metadata": {},
   "outputs": [
    {
     "data": {
      "text/plain": [
       "Id               0\n",
       "Property_type    0\n",
       "RoomType         0\n",
       "BedType          0\n",
       "Min_Night        0\n",
       "Max_Night        0\n",
       "Cancel           0\n",
       "Accomadate       0\n",
       "Bedroom          0\n",
       "amenities        0\n",
       "Bed              0\n",
       "Total_Reviews    0\n",
       "Bathrooms        0\n",
       "Price            0\n",
       "Cleaning         0\n",
       "ExtraPeople      0\n",
       "Guests           0\n",
       "dtype: int64"
      ]
     },
     "execution_count": 5,
     "metadata": {},
     "output_type": "execute_result"
    }
   ],
   "source": [
    "val.isna().sum()"
   ]
  },
  {
   "cell_type": "code",
   "execution_count": 6,
   "metadata": {},
   "outputs": [
    {
     "data": {
      "text/plain": [
       "Id               0\n",
       "Property_type    0\n",
       "RoomType         0\n",
       "BedType          0\n",
       "Min_Night        0\n",
       "Max_Night        0\n",
       "Cancel           0\n",
       "Accomadate       0\n",
       "Bedroom          0\n",
       "amenities        0\n",
       "Bed              0\n",
       "Total_Reviews    0\n",
       "Bathrooms        0\n",
       "Price            0\n",
       "Cleaning         0\n",
       "ExtraPeople      0\n",
       "Guests           0\n",
       "dtype: int64"
      ]
     },
     "execution_count": 6,
     "metadata": {},
     "output_type": "execute_result"
    }
   ],
   "source": [
    "val[val.duplicated()].count()"
   ]
  },
  {
   "cell_type": "code",
   "execution_count": 7,
   "metadata": {},
   "outputs": [
    {
     "data": {
      "text/plain": [
       "Id                object\n",
       "Property_type     object\n",
       "RoomType          object\n",
       "BedType           object\n",
       "Min_Night         object\n",
       "Max_Night         object\n",
       "Cancel            object\n",
       "Accomadate         int64\n",
       "Bedroom          float64\n",
       "amenities         object\n",
       "Bed              float64\n",
       "Total_Reviews      int64\n",
       "Bathrooms        float64\n",
       "Price            float64\n",
       "Cleaning         float64\n",
       "ExtraPeople      float64\n",
       "Guests           float64\n",
       "dtype: object"
      ]
     },
     "execution_count": 7,
     "metadata": {},
     "output_type": "execute_result"
    }
   ],
   "source": [
    "val.dtypes"
   ]
  },
  {
   "cell_type": "code",
   "execution_count": 8,
   "metadata": {},
   "outputs": [],
   "source": [
    "val['Min_Night'] = val['Min_Night'].astype(int)\n",
    "val['Max_Night'] = val['Max_Night'].astype(int)\n",
    "val['Bedroom'] = val['Bedroom'].astype(int)\n",
    "val['Bed'] = val['Bed'].astype(int)\n",
    "val['Bathrooms'] = val['Bathrooms'].astype(str).astype(float)\n",
    "val['Price'] = val['Price'].astype(str).astype(float).astype(int)\n",
    "val['Cleaning'] = val['Cleaning'].apply(lambda x: int(float(str(x))) if x != 'Not Specified' else 'Not Specified')\n",
    "val['ExtraPeople'] = val['ExtraPeople'].astype(int)\n",
    "val['Guests'] = val['Guests'].astype(int)"
   ]
  },
  {
   "cell_type": "code",
   "execution_count": 9,
   "metadata": {},
   "outputs": [
    {
     "data": {
      "text/plain": [
       "Id                object\n",
       "Property_type     object\n",
       "RoomType          object\n",
       "BedType           object\n",
       "Min_Night          int32\n",
       "Max_Night          int32\n",
       "Cancel            object\n",
       "Accomadate         int64\n",
       "Bedroom            int32\n",
       "amenities         object\n",
       "Bed                int32\n",
       "Total_Reviews      int64\n",
       "Bathrooms        float64\n",
       "Price              int32\n",
       "Cleaning           int64\n",
       "ExtraPeople        int32\n",
       "Guests             int32\n",
       "dtype: object"
      ]
     },
     "execution_count": 9,
     "metadata": {},
     "output_type": "execute_result"
    }
   ],
   "source": [
    "val.dtypes"
   ]
  },
  {
   "cell_type": "code",
   "execution_count": 10,
   "metadata": {},
   "outputs": [
    {
     "data": {
      "text/html": [
       "<div>\n",
       "<style scoped>\n",
       "    .dataframe tbody tr th:only-of-type {\n",
       "        vertical-align: middle;\n",
       "    }\n",
       "\n",
       "    .dataframe tbody tr th {\n",
       "        vertical-align: top;\n",
       "    }\n",
       "\n",
       "    .dataframe thead th {\n",
       "        text-align: right;\n",
       "    }\n",
       "</style>\n",
       "<table border=\"1\" class=\"dataframe\">\n",
       "  <thead>\n",
       "    <tr style=\"text-align: right;\">\n",
       "      <th></th>\n",
       "      <th>count</th>\n",
       "      <th>mean</th>\n",
       "      <th>std</th>\n",
       "      <th>min</th>\n",
       "      <th>25%</th>\n",
       "      <th>50%</th>\n",
       "      <th>75%</th>\n",
       "      <th>max</th>\n",
       "    </tr>\n",
       "  </thead>\n",
       "  <tbody>\n",
       "    <tr>\n",
       "      <th>Min_Night</th>\n",
       "      <td>5555.0</td>\n",
       "      <td>5.564356e+00</td>\n",
       "      <td>2.261386e+01</td>\n",
       "      <td>1.0</td>\n",
       "      <td>1.0</td>\n",
       "      <td>2.0</td>\n",
       "      <td>3.0</td>\n",
       "      <td>1.250000e+03</td>\n",
       "    </tr>\n",
       "    <tr>\n",
       "      <th>Max_Night</th>\n",
       "      <td>5555.0</td>\n",
       "      <td>1.382776e+06</td>\n",
       "      <td>5.256920e+07</td>\n",
       "      <td>1.0</td>\n",
       "      <td>59.0</td>\n",
       "      <td>1125.0</td>\n",
       "      <td>1125.0</td>\n",
       "      <td>2.147484e+09</td>\n",
       "    </tr>\n",
       "    <tr>\n",
       "      <th>Accomadate</th>\n",
       "      <td>5555.0</td>\n",
       "      <td>3.505851e+00</td>\n",
       "      <td>2.297019e+00</td>\n",
       "      <td>1.0</td>\n",
       "      <td>2.0</td>\n",
       "      <td>3.0</td>\n",
       "      <td>4.0</td>\n",
       "      <td>1.600000e+01</td>\n",
       "    </tr>\n",
       "    <tr>\n",
       "      <th>Bedroom</th>\n",
       "      <td>5555.0</td>\n",
       "      <td>1.411161e+00</td>\n",
       "      <td>1.041704e+00</td>\n",
       "      <td>0.0</td>\n",
       "      <td>1.0</td>\n",
       "      <td>1.0</td>\n",
       "      <td>2.0</td>\n",
       "      <td>2.000000e+01</td>\n",
       "    </tr>\n",
       "    <tr>\n",
       "      <th>Bed</th>\n",
       "      <td>5555.0</td>\n",
       "      <td>2.070747e+00</td>\n",
       "      <td>1.618626e+00</td>\n",
       "      <td>0.0</td>\n",
       "      <td>1.0</td>\n",
       "      <td>2.0</td>\n",
       "      <td>3.0</td>\n",
       "      <td>2.500000e+01</td>\n",
       "    </tr>\n",
       "    <tr>\n",
       "      <th>Total_Reviews</th>\n",
       "      <td>5555.0</td>\n",
       "      <td>2.760648e+01</td>\n",
       "      <td>4.979838e+01</td>\n",
       "      <td>0.0</td>\n",
       "      <td>1.0</td>\n",
       "      <td>5.0</td>\n",
       "      <td>32.0</td>\n",
       "      <td>5.330000e+02</td>\n",
       "    </tr>\n",
       "    <tr>\n",
       "      <th>Bathrooms</th>\n",
       "      <td>5555.0</td>\n",
       "      <td>1.291269e+00</td>\n",
       "      <td>7.024094e-01</td>\n",
       "      <td>0.0</td>\n",
       "      <td>1.0</td>\n",
       "      <td>1.0</td>\n",
       "      <td>1.0</td>\n",
       "      <td>1.600000e+01</td>\n",
       "    </tr>\n",
       "    <tr>\n",
       "      <th>Price</th>\n",
       "      <td>5555.0</td>\n",
       "      <td>2.787662e+02</td>\n",
       "      <td>8.422155e+02</td>\n",
       "      <td>9.0</td>\n",
       "      <td>70.0</td>\n",
       "      <td>129.0</td>\n",
       "      <td>280.0</td>\n",
       "      <td>4.884200e+04</td>\n",
       "    </tr>\n",
       "    <tr>\n",
       "      <th>Cleaning</th>\n",
       "      <td>5555.0</td>\n",
       "      <td>9.446373e+01</td>\n",
       "      <td>1.084039e+02</td>\n",
       "      <td>0.0</td>\n",
       "      <td>23.0</td>\n",
       "      <td>60.0</td>\n",
       "      <td>130.0</td>\n",
       "      <td>2.000000e+03</td>\n",
       "    </tr>\n",
       "    <tr>\n",
       "      <th>ExtraPeople</th>\n",
       "      <td>5555.0</td>\n",
       "      <td>2.279190e+01</td>\n",
       "      <td>6.933151e+01</td>\n",
       "      <td>0.0</td>\n",
       "      <td>0.0</td>\n",
       "      <td>0.0</td>\n",
       "      <td>20.0</td>\n",
       "      <td>2.346000e+03</td>\n",
       "    </tr>\n",
       "    <tr>\n",
       "      <th>Guests</th>\n",
       "      <td>5555.0</td>\n",
       "      <td>1.747435e+00</td>\n",
       "      <td>1.487352e+00</td>\n",
       "      <td>1.0</td>\n",
       "      <td>1.0</td>\n",
       "      <td>1.0</td>\n",
       "      <td>2.0</td>\n",
       "      <td>1.600000e+01</td>\n",
       "    </tr>\n",
       "  </tbody>\n",
       "</table>\n",
       "</div>"
      ],
      "text/plain": [
       "                count          mean           std  min   25%     50%     75%  \\\n",
       "Min_Night      5555.0  5.564356e+00  2.261386e+01  1.0   1.0     2.0     3.0   \n",
       "Max_Night      5555.0  1.382776e+06  5.256920e+07  1.0  59.0  1125.0  1125.0   \n",
       "Accomadate     5555.0  3.505851e+00  2.297019e+00  1.0   2.0     3.0     4.0   \n",
       "Bedroom        5555.0  1.411161e+00  1.041704e+00  0.0   1.0     1.0     2.0   \n",
       "Bed            5555.0  2.070747e+00  1.618626e+00  0.0   1.0     2.0     3.0   \n",
       "Total_Reviews  5555.0  2.760648e+01  4.979838e+01  0.0   1.0     5.0    32.0   \n",
       "Bathrooms      5555.0  1.291269e+00  7.024094e-01  0.0   1.0     1.0     1.0   \n",
       "Price          5555.0  2.787662e+02  8.422155e+02  9.0  70.0   129.0   280.0   \n",
       "Cleaning       5555.0  9.446373e+01  1.084039e+02  0.0  23.0    60.0   130.0   \n",
       "ExtraPeople    5555.0  2.279190e+01  6.933151e+01  0.0   0.0     0.0    20.0   \n",
       "Guests         5555.0  1.747435e+00  1.487352e+00  1.0   1.0     1.0     2.0   \n",
       "\n",
       "                        max  \n",
       "Min_Night      1.250000e+03  \n",
       "Max_Night      2.147484e+09  \n",
       "Accomadate     1.600000e+01  \n",
       "Bedroom        2.000000e+01  \n",
       "Bed            2.500000e+01  \n",
       "Total_Reviews  5.330000e+02  \n",
       "Bathrooms      1.600000e+01  \n",
       "Price          4.884200e+04  \n",
       "Cleaning       2.000000e+03  \n",
       "ExtraPeople    2.346000e+03  \n",
       "Guests         1.600000e+01  "
      ]
     },
     "execution_count": 10,
     "metadata": {},
     "output_type": "execute_result"
    }
   ],
   "source": [
    "val.describe().T"
   ]
  },
  {
   "cell_type": "code",
   "execution_count": 11,
   "metadata": {},
   "outputs": [],
   "source": [
    "path = \"C:/Users/Bala Krishnan/Downloads/sample_airbnb.json\"\n",
    "D = open(path,'r')\n",
    "data = json.load(D)\n",
    "\n",
    "host_data = []\n",
    "\n",
    "for i in data:\n",
    "    host = {\n",
    "        \"Id\" : i['_id'],\n",
    "        \"Id_host\" : i['host']['host_id'],\n",
    "        \"Location\" : i['host']['host_location'],\n",
    "        \"Response\" : i['host'].get('host_response_time'),\n",
    "        \"Host_neigh\" : i['host']['host_neighbourhood'],\n",
    "        \"Response_rate\" : i['host'].get('host_response_rate'),\n",
    "        \"Total_list\" : i['host']['host_total_listings_count'],\n",
    "        \"Vertify\" : ','.join(map(str, i['host']['host_verifications']))\n",
    "    }\n",
    "    \n",
    "    host_data.append(host)\n",
    "\n",
    "val1 = pd.DataFrame(host_data)\n",
    "#val1"
   ]
  },
  {
   "cell_type": "code",
   "execution_count": 12,
   "metadata": {},
   "outputs": [
    {
     "data": {
      "text/plain": [
       "Id                  0\n",
       "Id_host             0\n",
       "Location            0\n",
       "Response         1388\n",
       "Host_neigh          0\n",
       "Response_rate    1388\n",
       "Total_list          0\n",
       "Vertify             0\n",
       "dtype: int64"
      ]
     },
     "execution_count": 12,
     "metadata": {},
     "output_type": "execute_result"
    }
   ],
   "source": [
    "val1.isna().sum()"
   ]
  },
  {
   "cell_type": "code",
   "execution_count": 13,
   "metadata": {},
   "outputs": [
    {
     "data": {
      "text/plain": [
       "Id               0\n",
       "Id_host          0\n",
       "Location         0\n",
       "Response         0\n",
       "Host_neigh       0\n",
       "Response_rate    0\n",
       "Total_list       0\n",
       "Vertify          0\n",
       "dtype: int64"
      ]
     },
     "execution_count": 13,
     "metadata": {},
     "output_type": "execute_result"
    }
   ],
   "source": [
    "val1[val1.duplicated()].count()"
   ]
  },
  {
   "cell_type": "code",
   "execution_count": 14,
   "metadata": {},
   "outputs": [
    {
     "data": {
      "text/plain": [
       "Id               0\n",
       "Id_host          0\n",
       "Location         0\n",
       "Response         0\n",
       "Host_neigh       0\n",
       "Response_rate    0\n",
       "Total_list       0\n",
       "Vertify          0\n",
       "dtype: int64"
      ]
     },
     "execution_count": 14,
     "metadata": {},
     "output_type": "execute_result"
    }
   ],
   "source": [
    "val1.drop_duplicates(inplace=True,ignore_index=True)\n",
    "val1[val1.duplicated()].count()"
   ]
  },
  {
   "cell_type": "code",
   "execution_count": 15,
   "metadata": {},
   "outputs": [
    {
     "data": {
      "text/plain": [
       "Index(['Id', 'Id_host', 'Location', 'Response', 'Host_neigh', 'Response_rate',\n",
       "       'Total_list', 'Vertify'],\n",
       "      dtype='object')"
      ]
     },
     "execution_count": 15,
     "metadata": {},
     "output_type": "execute_result"
    }
   ],
   "source": [
    "val1.columns"
   ]
  },
  {
   "cell_type": "code",
   "execution_count": 16,
   "metadata": {},
   "outputs": [
    {
     "name": "stderr",
     "output_type": "stream",
     "text": [
      "C:\\Users\\Bala Krishnan\\AppData\\Local\\Temp\\ipykernel_13200\\409976661.py:3: FutureWarning: A value is trying to be set on a copy of a DataFrame or Series through chained assignment using an inplace method.\n",
      "The behavior will change in pandas 3.0. This inplace method will never work because the intermediate object on which we are setting values always behaves as a copy.\n",
      "\n",
      "For example, when doing 'df[col].method(value, inplace=True)', try using 'df.method({col: value}, inplace=True)' or df[col] = df[col].method(value) instead, to perform the operation inplace on the original object.\n",
      "\n",
      "\n",
      "  val1[\"Response\"].fillna(\"Not Specified\",inplace= True)\n",
      "C:\\Users\\Bala Krishnan\\AppData\\Local\\Temp\\ipykernel_13200\\409976661.py:6: FutureWarning: A value is trying to be set on a copy of a DataFrame or Series through chained assignment using an inplace method.\n",
      "The behavior will change in pandas 3.0. This inplace method will never work because the intermediate object on which we are setting values always behaves as a copy.\n",
      "\n",
      "For example, when doing 'df[col].method(value, inplace=True)', try using 'df.method({col: value}, inplace=True)' or df[col] = df[col].method(value) instead, to perform the operation inplace on the original object.\n",
      "\n",
      "\n",
      "  val1[\"Response_rate\"].fillna(\"Not Specified\",inplace= True)\n",
      "C:\\Users\\Bala Krishnan\\AppData\\Local\\Temp\\ipykernel_13200\\409976661.py:6: FutureWarning: Setting an item of incompatible dtype is deprecated and will raise an error in a future version of pandas. Value 'Not Specified' has dtype incompatible with float64, please explicitly cast to a compatible dtype first.\n",
      "  val1[\"Response_rate\"].fillna(\"Not Specified\",inplace= True)\n"
     ]
    },
    {
     "data": {
      "text/plain": [
       "Id               0\n",
       "Id_host          0\n",
       "Location         0\n",
       "Response         0\n",
       "Host_neigh       0\n",
       "Response_rate    0\n",
       "Total_list       0\n",
       "Vertify          0\n",
       "dtype: int64"
      ]
     },
     "execution_count": 16,
     "metadata": {},
     "output_type": "execute_result"
    }
   ],
   "source": [
    "val1.bfill(inplace = True)\n",
    "val1[\"Host_neigh\"]= val1[\"Host_neigh\"].replace({'':\"Not Specified\"})\n",
    "val1[\"Response\"].fillna(\"Not Specified\",inplace= True)\n",
    "#val1['Response '].fillna('Not Specified', inplace=True)\n",
    "#val1['Response_rate '].fillna(\"Not Specified\", inplace=True)\n",
    "val1[\"Response_rate\"].fillna(\"Not Specified\",inplace= True)\n",
    "#val1[\"Vertify\"].fillna(\"Not Specified\", inplace=True)\n",
    "val1[\"Location\"]= val1[\"Location\"].replace({'':\"Not Specified\"})\n",
    "val1[\"Vertify\"]= val1[\"Vertify\"].replace({'':\"Not Specified\"})\n",
    "val1.isna().sum()"
   ]
  },
  {
   "cell_type": "code",
   "execution_count": 17,
   "metadata": {},
   "outputs": [
    {
     "data": {
      "text/plain": [
       "Id               object\n",
       "Id_host          object\n",
       "Location         object\n",
       "Response         object\n",
       "Host_neigh       object\n",
       "Response_rate    object\n",
       "Total_list        int64\n",
       "Vertify          object\n",
       "dtype: object"
      ]
     },
     "execution_count": 17,
     "metadata": {},
     "output_type": "execute_result"
    }
   ],
   "source": [
    "val1.dtypes"
   ]
  },
  {
   "cell_type": "code",
   "execution_count": 18,
   "metadata": {},
   "outputs": [],
   "source": [
    "path = \"C:/Users/Bala Krishnan/Downloads/sample_airbnb.json\"\n",
    "D = open(path,'r')\n",
    "data = json.load(D)\n",
    "\n",
    "info = []\n",
    "\n",
    "for i in data:\n",
    "    data_info = {\n",
    "        \"Id\" : i['_id'],\n",
    "        \"Street\" : i['address']['street'],\n",
    "        \"SubUrban\" : i['address']['suburb'],\n",
    "        \"Gov_Area\" : i['address']['government_area'],\n",
    "        \"Market\" : i['address']['market'],\n",
    "        \"Country\" : i['address']['country'],\n",
    "        \"C_Code\" : i['address']['country_code'],\n",
    "        \"longitude\" : i['address']['location']['coordinates'][0],\n",
    "        \"latitude\" : i['address']['location']['coordinates'][1],\n",
    "        \"Avail_30\" : i['availability']['availability_30'],\n",
    "        \"Avail_60\" : i['availability']['availability_60'],\n",
    "        \"Avail_90\" : i['availability']['availability_90'],\n",
    "        \"Avail_365\" : i['availability']['availability_365'],\n",
    "        \"RScore_accur\" : i['review_scores'].get('review_scores_accuracy'),\n",
    "        \"RScore_neatness\" : i['review_scores'].get('review_scores_cleanliness'),\n",
    "        \"RScore_checkin\" : i['review_scores'].get('review_scores_checkin'),\n",
    "        \"RScore_comm\" : i['review_scores'].get('review_scores_communication'),\n",
    "        \"RScore_location\" : i['review_scores'].get('review_scores_location'),\n",
    "        \"RScore_value\" : i['review_scores'].get('review_scores_value'),\n",
    "        \"RScore_rate\" : i['review_scores'].get('review_scores_rating')       \n",
    "    }\n",
    "\n",
    "    info.append(data_info)\n",
    "\n",
    "val2 = pd.DataFrame(info)\n",
    "#val2\n",
    "    "
   ]
  },
  {
   "cell_type": "code",
   "execution_count": 19,
   "metadata": {},
   "outputs": [
    {
     "data": {
      "text/plain": [
       "Id                    0\n",
       "Street                0\n",
       "SubUrban              0\n",
       "Gov_Area              0\n",
       "Market                0\n",
       "Country               0\n",
       "C_Code                0\n",
       "longitude             0\n",
       "latitude              0\n",
       "Avail_30              0\n",
       "Avail_60              0\n",
       "Avail_90              0\n",
       "Avail_365             0\n",
       "RScore_accur       1476\n",
       "RScore_neatness    1473\n",
       "RScore_checkin     1475\n",
       "RScore_comm        1474\n",
       "RScore_location    1474\n",
       "RScore_value       1475\n",
       "RScore_rate        1474\n",
       "dtype: int64"
      ]
     },
     "execution_count": 19,
     "metadata": {},
     "output_type": "execute_result"
    }
   ],
   "source": [
    "val2.isna().sum()"
   ]
  },
  {
   "cell_type": "code",
   "execution_count": 20,
   "metadata": {},
   "outputs": [
    {
     "name": "stderr",
     "output_type": "stream",
     "text": [
      "C:\\Users\\Bala Krishnan\\AppData\\Local\\Temp\\ipykernel_13200\\982503696.py:5: FutureWarning: A value is trying to be set on a copy of a DataFrame or Series through chained assignment using an inplace method.\n",
      "The behavior will change in pandas 3.0. This inplace method will never work because the intermediate object on which we are setting values always behaves as a copy.\n",
      "\n",
      "For example, when doing 'df[col].method(value, inplace=True)', try using 'df.method({col: value}, inplace=True)' or df[col] = df[col].method(value) instead, to perform the operation inplace on the original object.\n",
      "\n",
      "\n",
      "  val2[\"RScore_accur\"].fillna(\"Not Specified\", inplace=True)\n",
      "C:\\Users\\Bala Krishnan\\AppData\\Local\\Temp\\ipykernel_13200\\982503696.py:5: FutureWarning: Setting an item of incompatible dtype is deprecated and will raise an error in a future version of pandas. Value 'Not Specified' has dtype incompatible with float64, please explicitly cast to a compatible dtype first.\n",
      "  val2[\"RScore_accur\"].fillna(\"Not Specified\", inplace=True)\n",
      "C:\\Users\\Bala Krishnan\\AppData\\Local\\Temp\\ipykernel_13200\\982503696.py:6: FutureWarning: A value is trying to be set on a copy of a DataFrame or Series through chained assignment using an inplace method.\n",
      "The behavior will change in pandas 3.0. This inplace method will never work because the intermediate object on which we are setting values always behaves as a copy.\n",
      "\n",
      "For example, when doing 'df[col].method(value, inplace=True)', try using 'df.method({col: value}, inplace=True)' or df[col] = df[col].method(value) instead, to perform the operation inplace on the original object.\n",
      "\n",
      "\n",
      "  val2[\"RScore_neatness\"].fillna(\"Not Specified\", inplace=True)\n",
      "C:\\Users\\Bala Krishnan\\AppData\\Local\\Temp\\ipykernel_13200\\982503696.py:6: FutureWarning: Setting an item of incompatible dtype is deprecated and will raise an error in a future version of pandas. Value 'Not Specified' has dtype incompatible with float64, please explicitly cast to a compatible dtype first.\n",
      "  val2[\"RScore_neatness\"].fillna(\"Not Specified\", inplace=True)\n",
      "C:\\Users\\Bala Krishnan\\AppData\\Local\\Temp\\ipykernel_13200\\982503696.py:7: FutureWarning: A value is trying to be set on a copy of a DataFrame or Series through chained assignment using an inplace method.\n",
      "The behavior will change in pandas 3.0. This inplace method will never work because the intermediate object on which we are setting values always behaves as a copy.\n",
      "\n",
      "For example, when doing 'df[col].method(value, inplace=True)', try using 'df.method({col: value}, inplace=True)' or df[col] = df[col].method(value) instead, to perform the operation inplace on the original object.\n",
      "\n",
      "\n",
      "  val2[\"RScore_checkin\"].fillna(\"Not Specified\", inplace=True)\n",
      "C:\\Users\\Bala Krishnan\\AppData\\Local\\Temp\\ipykernel_13200\\982503696.py:7: FutureWarning: Setting an item of incompatible dtype is deprecated and will raise an error in a future version of pandas. Value 'Not Specified' has dtype incompatible with float64, please explicitly cast to a compatible dtype first.\n",
      "  val2[\"RScore_checkin\"].fillna(\"Not Specified\", inplace=True)\n"
     ]
    }
   ],
   "source": [
    "#val2[\"SubUrban\"].fillna(\"Not Specified\", inplace=True)\n",
    "#val2[\"Market\"].fillna('Not Specified', inplace=True)\n",
    "val2[\"SubUrban\"]= val2[\"SubUrban\"].replace({'':\"Not Specified\"})\n",
    "val2[\"Market\"]= val2[\"Market\"].replace({'':\"Not Specified\"})\n",
    "val2[\"RScore_accur\"].fillna(\"Not Specified\", inplace=True)\n",
    "val2[\"RScore_neatness\"].fillna(\"Not Specified\", inplace=True)\n",
    "val2[\"RScore_checkin\"].fillna(\"Not Specified\", inplace=True)\n",
    "val2[\"RScore_comm\"] = val2[\"RScore_comm\"].fillna(val2[\"RScore_comm\"].mean())\n",
    "val2[\"RScore_location\"] = val2[\"RScore_location\"].fillna(val2[\"RScore_location\"].mean())\n",
    "val2[\"RScore_value\"] = val2[\"RScore_value\"].fillna(val2[\"RScore_value\"].mean())\n",
    "val2[\"RScore_rate\"] = val2[\"RScore_rate\"].fillna(val2[\"RScore_rate\"].mean())"
   ]
  },
  {
   "cell_type": "code",
   "execution_count": 21,
   "metadata": {},
   "outputs": [
    {
     "data": {
      "text/plain": [
       "Id                 0\n",
       "Street             0\n",
       "SubUrban           0\n",
       "Gov_Area           0\n",
       "Market             0\n",
       "Country            0\n",
       "C_Code             0\n",
       "longitude          0\n",
       "latitude           0\n",
       "Avail_30           0\n",
       "Avail_60           0\n",
       "Avail_90           0\n",
       "Avail_365          0\n",
       "RScore_accur       0\n",
       "RScore_neatness    0\n",
       "RScore_checkin     0\n",
       "RScore_comm        0\n",
       "RScore_location    0\n",
       "RScore_value       0\n",
       "RScore_rate        0\n",
       "dtype: int64"
      ]
     },
     "execution_count": 21,
     "metadata": {},
     "output_type": "execute_result"
    }
   ],
   "source": [
    "val2.isna().sum()"
   ]
  },
  {
   "cell_type": "code",
   "execution_count": 22,
   "metadata": {},
   "outputs": [
    {
     "data": {
      "text/plain": [
       "Id                  object\n",
       "Street              object\n",
       "SubUrban            object\n",
       "Gov_Area            object\n",
       "Market              object\n",
       "Country             object\n",
       "C_Code              object\n",
       "longitude          float64\n",
       "latitude           float64\n",
       "Avail_30             int64\n",
       "Avail_60             int64\n",
       "Avail_90             int64\n",
       "Avail_365            int64\n",
       "RScore_accur        object\n",
       "RScore_neatness     object\n",
       "RScore_checkin      object\n",
       "RScore_comm        float64\n",
       "RScore_location    float64\n",
       "RScore_value       float64\n",
       "RScore_rate        float64\n",
       "dtype: object"
      ]
     },
     "execution_count": 22,
     "metadata": {},
     "output_type": "execute_result"
    }
   ],
   "source": [
    "val2.dtypes"
   ]
  },
  {
   "cell_type": "code",
   "execution_count": 23,
   "metadata": {},
   "outputs": [
    {
     "data": {
      "text/html": [
       "<div>\n",
       "<style scoped>\n",
       "    .dataframe tbody tr th:only-of-type {\n",
       "        vertical-align: middle;\n",
       "    }\n",
       "\n",
       "    .dataframe tbody tr th {\n",
       "        vertical-align: top;\n",
       "    }\n",
       "\n",
       "    .dataframe thead th {\n",
       "        text-align: right;\n",
       "    }\n",
       "</style>\n",
       "<table border=\"1\" class=\"dataframe\">\n",
       "  <thead>\n",
       "    <tr style=\"text-align: right;\">\n",
       "      <th></th>\n",
       "      <th>Id</th>\n",
       "      <th>Property_type</th>\n",
       "      <th>RoomType</th>\n",
       "      <th>BedType</th>\n",
       "      <th>Min_Night</th>\n",
       "      <th>Max_Night</th>\n",
       "      <th>Cancel</th>\n",
       "      <th>Accomadate</th>\n",
       "      <th>Bedroom</th>\n",
       "      <th>amenities</th>\n",
       "      <th>...</th>\n",
       "      <th>Avail_60</th>\n",
       "      <th>Avail_90</th>\n",
       "      <th>Avail_365</th>\n",
       "      <th>RScore_accur</th>\n",
       "      <th>RScore_neatness</th>\n",
       "      <th>RScore_checkin</th>\n",
       "      <th>RScore_comm</th>\n",
       "      <th>RScore_location</th>\n",
       "      <th>RScore_value</th>\n",
       "      <th>RScore_rate</th>\n",
       "    </tr>\n",
       "  </thead>\n",
       "  <tbody>\n",
       "    <tr>\n",
       "      <th>0</th>\n",
       "      <td>1003530</td>\n",
       "      <td>Apartment</td>\n",
       "      <td>Private room</td>\n",
       "      <td>Real Bed</td>\n",
       "      <td>12</td>\n",
       "      <td>360</td>\n",
       "      <td>strict_14_with_grace_period</td>\n",
       "      <td>2</td>\n",
       "      <td>1</td>\n",
       "      <td>Internet,Wifi,Air conditioning,Kitchen,Elevato...</td>\n",
       "      <td>...</td>\n",
       "      <td>0</td>\n",
       "      <td>0</td>\n",
       "      <td>93</td>\n",
       "      <td>10.0</td>\n",
       "      <td>9.0</td>\n",
       "      <td>10.0</td>\n",
       "      <td>10.0</td>\n",
       "      <td>10.0</td>\n",
       "      <td>10.0</td>\n",
       "      <td>94.0</td>\n",
       "    </tr>\n",
       "    <tr>\n",
       "      <th>1</th>\n",
       "      <td>10133554</td>\n",
       "      <td>Bed and breakfast</td>\n",
       "      <td>Private room</td>\n",
       "      <td>Real Bed</td>\n",
       "      <td>1</td>\n",
       "      <td>1125</td>\n",
       "      <td>moderate</td>\n",
       "      <td>3</td>\n",
       "      <td>1</td>\n",
       "      <td>Internet,Wifi,Air conditioning,Free parking on...</td>\n",
       "      <td>...</td>\n",
       "      <td>60</td>\n",
       "      <td>90</td>\n",
       "      <td>365</td>\n",
       "      <td>9.0</td>\n",
       "      <td>9.0</td>\n",
       "      <td>10.0</td>\n",
       "      <td>10.0</td>\n",
       "      <td>10.0</td>\n",
       "      <td>9.0</td>\n",
       "      <td>92.0</td>\n",
       "    </tr>\n",
       "    <tr>\n",
       "      <th>2</th>\n",
       "      <td>10059872</td>\n",
       "      <td>Apartment</td>\n",
       "      <td>Entire home/apt</td>\n",
       "      <td>Real Bed</td>\n",
       "      <td>4</td>\n",
       "      <td>20</td>\n",
       "      <td>flexible</td>\n",
       "      <td>3</td>\n",
       "      <td>1</td>\n",
       "      <td>Air conditioning,Kitchen,Smoking allowed,Doorm...</td>\n",
       "      <td>...</td>\n",
       "      <td>0</td>\n",
       "      <td>0</td>\n",
       "      <td>0</td>\n",
       "      <td>10.0</td>\n",
       "      <td>10.0</td>\n",
       "      <td>10.0</td>\n",
       "      <td>10.0</td>\n",
       "      <td>10.0</td>\n",
       "      <td>8.0</td>\n",
       "      <td>100.0</td>\n",
       "    </tr>\n",
       "    <tr>\n",
       "      <th>3</th>\n",
       "      <td>10084023</td>\n",
       "      <td>Guesthouse</td>\n",
       "      <td>Private room</td>\n",
       "      <td>Futon</td>\n",
       "      <td>1</td>\n",
       "      <td>500</td>\n",
       "      <td>strict_14_with_grace_period</td>\n",
       "      <td>1</td>\n",
       "      <td>1</td>\n",
       "      <td>TV,Wifi,Air conditioning,Kitchen,Elevator,Firs...</td>\n",
       "      <td>...</td>\n",
       "      <td>24</td>\n",
       "      <td>40</td>\n",
       "      <td>220</td>\n",
       "      <td>10.0</td>\n",
       "      <td>8.0</td>\n",
       "      <td>10.0</td>\n",
       "      <td>10.0</td>\n",
       "      <td>10.0</td>\n",
       "      <td>10.0</td>\n",
       "      <td>92.0</td>\n",
       "    </tr>\n",
       "    <tr>\n",
       "      <th>4</th>\n",
       "      <td>10091713</td>\n",
       "      <td>Apartment</td>\n",
       "      <td>Entire home/apt</td>\n",
       "      <td>Real Bed</td>\n",
       "      <td>10</td>\n",
       "      <td>21</td>\n",
       "      <td>strict_14_with_grace_period</td>\n",
       "      <td>2</td>\n",
       "      <td>0</td>\n",
       "      <td>TV,Wifi,Kitchen,Elevator,Heating,Washer,Dryer,...</td>\n",
       "      <td>...</td>\n",
       "      <td>0</td>\n",
       "      <td>0</td>\n",
       "      <td>0</td>\n",
       "      <td>10.0</td>\n",
       "      <td>9.0</td>\n",
       "      <td>10.0</td>\n",
       "      <td>10.0</td>\n",
       "      <td>10.0</td>\n",
       "      <td>9.0</td>\n",
       "      <td>95.0</td>\n",
       "    </tr>\n",
       "  </tbody>\n",
       "</table>\n",
       "<p>5 rows × 43 columns</p>\n",
       "</div>"
      ],
      "text/plain": [
       "         Id      Property_type         RoomType   BedType  Min_Night  \\\n",
       "0   1003530          Apartment     Private room  Real Bed         12   \n",
       "1  10133554  Bed and breakfast     Private room  Real Bed          1   \n",
       "2  10059872          Apartment  Entire home/apt  Real Bed          4   \n",
       "3  10084023         Guesthouse     Private room     Futon          1   \n",
       "4  10091713          Apartment  Entire home/apt  Real Bed         10   \n",
       "\n",
       "   Max_Night                       Cancel  Accomadate  Bedroom  \\\n",
       "0        360  strict_14_with_grace_period           2        1   \n",
       "1       1125                     moderate           3        1   \n",
       "2         20                     flexible           3        1   \n",
       "3        500  strict_14_with_grace_period           1        1   \n",
       "4         21  strict_14_with_grace_period           2        0   \n",
       "\n",
       "                                           amenities  ...  Avail_60  Avail_90  \\\n",
       "0  Internet,Wifi,Air conditioning,Kitchen,Elevato...  ...         0         0   \n",
       "1  Internet,Wifi,Air conditioning,Free parking on...  ...        60        90   \n",
       "2  Air conditioning,Kitchen,Smoking allowed,Doorm...  ...         0         0   \n",
       "3  TV,Wifi,Air conditioning,Kitchen,Elevator,Firs...  ...        24        40   \n",
       "4  TV,Wifi,Kitchen,Elevator,Heating,Washer,Dryer,...  ...         0         0   \n",
       "\n",
       "   Avail_365  RScore_accur  RScore_neatness  RScore_checkin  RScore_comm  \\\n",
       "0         93          10.0              9.0            10.0         10.0   \n",
       "1        365           9.0              9.0            10.0         10.0   \n",
       "2          0          10.0             10.0            10.0         10.0   \n",
       "3        220          10.0              8.0            10.0         10.0   \n",
       "4          0          10.0              9.0            10.0         10.0   \n",
       "\n",
       "  RScore_location RScore_value RScore_rate  \n",
       "0            10.0         10.0        94.0  \n",
       "1            10.0          9.0        92.0  \n",
       "2            10.0          8.0       100.0  \n",
       "3            10.0         10.0        92.0  \n",
       "4            10.0          9.0        95.0  \n",
       "\n",
       "[5 rows x 43 columns]"
      ]
     },
     "execution_count": 23,
     "metadata": {},
     "output_type": "execute_result"
    }
   ],
   "source": [
    "df = pd.merge(val, val1, on = 'Id')\n",
    "df = pd.merge(df, val2, on = 'Id')\n",
    "df.head()"
   ]
  },
  {
   "cell_type": "code",
   "execution_count": 24,
   "metadata": {},
   "outputs": [],
   "source": [
    "df.to_csv(\"Airbnb.csv\", index= False)"
   ]
  },
  {
   "cell_type": "code",
   "execution_count": 25,
   "metadata": {},
   "outputs": [],
   "source": [
    "df= pd.read_csv(\"Airbnb.csv\")\n",
    "#df"
   ]
  },
  {
   "cell_type": "code",
   "execution_count": 27,
   "metadata": {},
   "outputs": [
    {
     "data": {
      "text/plain": [
       "Id                 0\n",
       "Property_type      0\n",
       "RoomType           0\n",
       "BedType            0\n",
       "Min_Night          0\n",
       "Max_Night          0\n",
       "Cancel             0\n",
       "Accomadate         0\n",
       "Bedroom            0\n",
       "amenities          0\n",
       "Bed                0\n",
       "Total_Reviews      0\n",
       "Bathrooms          0\n",
       "Price              0\n",
       "Cleaning           0\n",
       "ExtraPeople        0\n",
       "Guests             0\n",
       "Id_host            0\n",
       "Location           0\n",
       "Response           0\n",
       "Host_neigh         0\n",
       "Response_rate      0\n",
       "Total_list         0\n",
       "Vertify            0\n",
       "Street             0\n",
       "SubUrban           0\n",
       "Gov_Area           0\n",
       "Market             0\n",
       "Country            0\n",
       "C_Code             0\n",
       "longitude          0\n",
       "latitude           0\n",
       "Avail_30           0\n",
       "Avail_60           0\n",
       "Avail_90           0\n",
       "Avail_365          0\n",
       "RScore_accur       0\n",
       "RScore_neatness    0\n",
       "RScore_checkin     0\n",
       "RScore_comm        0\n",
       "RScore_location    0\n",
       "RScore_value       0\n",
       "RScore_rate        0\n",
       "dtype: int64"
      ]
     },
     "execution_count": 27,
     "metadata": {},
     "output_type": "execute_result"
    }
   ],
   "source": [
    "df.isnull().sum()"
   ]
  }
 ],
 "metadata": {
  "kernelspec": {
   "display_name": "Python 3",
   "language": "python",
   "name": "python3"
  },
  "language_info": {
   "codemirror_mode": {
    "name": "ipython",
    "version": 3
   },
   "file_extension": ".py",
   "mimetype": "text/x-python",
   "name": "python",
   "nbconvert_exporter": "python",
   "pygments_lexer": "ipython3",
   "version": "3.12.1"
  }
 },
 "nbformat": 4,
 "nbformat_minor": 2
}
